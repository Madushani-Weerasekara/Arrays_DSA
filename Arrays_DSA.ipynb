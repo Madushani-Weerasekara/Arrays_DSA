{
  "nbformat": 4,
  "nbformat_minor": 0,
  "metadata": {
    "colab": {
      "provenance": [],
      "authorship_tag": "ABX9TyMIZQcJFE970ov3T7NV5zQj",
      "include_colab_link": true
    },
    "kernelspec": {
      "name": "python3",
      "display_name": "Python 3"
    },
    "language_info": {
      "name": "python"
    }
  },
  "cells": [
    {
      "cell_type": "markdown",
      "metadata": {
        "id": "view-in-github",
        "colab_type": "text"
      },
      "source": [
        "<a href=\"https://colab.research.google.com/github/Madushani-Weerasekara/Arrays_DSA/blob/main/Arrays_DSA.ipynb\" target=\"_parent\"><img src=\"https://colab.research.google.com/assets/colab-badge.svg\" alt=\"Open In Colab\"/></a>"
      ]
    },
    {
      "cell_type": "markdown",
      "source": [
        "#Exercse: Array DSA"
      ],
      "metadata": {
        "id": "sAP1QGLm19GL"
      }
    },
    {
      "cell_type": "code",
      "source": [
        "\"\"\"\n",
        "    Let us say your expense for every month are listed below,\n",
        "        January - 2200\n",
        "        February - 2350\n",
        "        March - 2600\n",
        "        April - 2130\n",
        "        May - 2190\n",
        "\n",
        "Create a list to store these monthly expenses and using that find out,\n",
        "\n",
        "1. In Feb, how many dollars you spent extra compare to January?\n",
        "2. Find out your total expense in first quarter (first three months) of the year.\n",
        "3. Find out if you spent exactly 2000 dollars in any month\n",
        "4. June month just finished and your expense is 1980 dollar. Add this item to our monthly expense list\n",
        "5. You returned an item that you bought in a month of April and\n",
        "got a refund of 200$. Make a correction to your monthly expense list\n",
        "based on this"
      ],
      "metadata": {
        "id": "-j6SJOFf11GO"
      },
      "execution_count": null,
      "outputs": []
    },
    {
      "cell_type": "code",
      "source": [
        "month_expenses = [\n",
        "    {\"month\": \"January\", \"expense\": 2200},\n",
        "    {\"month\": \"February\", \"expense\": 2350},\n",
        "    {\"month\": \"March\", \"expense\": 2600},\n",
        "    {\"month\": \"April\", \"expense\": 2130},\n",
        "    {\"month\": \"May\", \"expense\": 2190}\n",
        "]\n",
        "\n",
        "\n"
      ],
      "metadata": {
        "id": "LiZHkru12CzB"
      },
      "execution_count": 11,
      "outputs": []
    }
  ]
}