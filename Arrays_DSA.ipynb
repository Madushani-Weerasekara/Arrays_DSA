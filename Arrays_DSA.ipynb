{
  "nbformat": 4,
  "nbformat_minor": 0,
  "metadata": {
    "colab": {
      "provenance": [],
      "authorship_tag": "ABX9TyMBLNptLsHG2PeQ1wTMFAtk",
      "include_colab_link": true
    },
    "kernelspec": {
      "name": "python3",
      "display_name": "Python 3"
    },
    "language_info": {
      "name": "python"
    }
  },
  "cells": [
    {
      "cell_type": "markdown",
      "metadata": {
        "id": "view-in-github",
        "colab_type": "text"
      },
      "source": [
        "<a href=\"https://colab.research.google.com/github/Madushani-Weerasekara/Arrays_DSA/blob/main/Arrays_DSA.ipynb\" target=\"_parent\"><img src=\"https://colab.research.google.com/assets/colab-badge.svg\" alt=\"Open In Colab\"/></a>"
      ]
    },
    {
      "cell_type": "markdown",
      "source": [
        "#Exercse: Array DSA"
      ],
      "metadata": {
        "id": "sAP1QGLm19GL"
      }
    },
    {
      "cell_type": "code",
      "source": [
        "\"\"\"\"\"\n",
        "Problem Statement:\n",
        "    Let us say your expense for every month are listed below,\n",
        "        January - 2200\n",
        "        February - 2350\n",
        "        March - 2600\n",
        "        April - 2130\n",
        "        May - 2190\n",
        "\n",
        "Create a list to store these monthly expenses and using that find out,\n",
        "\n",
        "1. In Feb, how many dollars you spent extra compare to January?\n",
        "2. Find out your total expense in first quarter (first three months) of the year.\n",
        "3. Find out if you spent exactly 2000 dollars in any month\n",
        "4. June month just finished and your expense is 1980 dollar. Add this item to our monthly expense list\n",
        "5. You returned an item that you bought in a month of April and\n",
        "got a refund of 200$. Make a correction to your monthly expense list\n",
        "based on this\"\"\"\"\""
      ],
      "metadata": {
        "id": "-j6SJOFf11GO",
        "colab": {
          "base_uri": "https://localhost:8080/",
          "height": 107
        },
        "outputId": "a7ee461e-860f-4138-bf11-39b2d6a00730"
      },
      "execution_count": 96,
      "outputs": [
        {
          "output_type": "execute_result",
          "data": {
            "text/plain": [
              "'\"\"\\nProblem Statement:\\n    Let us say your expense for every month are listed below,\\n        January - 2200\\n        February - 2350\\n        March - 2600\\n        April - 2130\\n        May - 2190\\n\\nCreate a list to store these monthly expenses and using that find out,\\n\\n1. In Feb, how many dollars you spent extra compare to January?\\n2. Find out your total expense in first quarter (first three months) of the year.\\n3. Find out if you spent exactly 2000 dollars in any month\\n4. June month just finished and your expense is 1980 dollar. Add this item to our monthly expense list\\n5. You returned an item that you bought in a month of April and\\ngot a refund of 200$. Make a correction to your monthly expense list\\nbased on this'"
            ],
            "application/vnd.google.colaboratory.intrinsic+json": {
              "type": "string"
            }
          },
          "metadata": {},
          "execution_count": 96
        }
      ]
    },
    {
      "cell_type": "code",
      "source": [
        "monthly_expenses = [\n",
        "    {\"month\": \"January\", \"expense\": 2000},\n",
        "    {\"month\": \"February\", \"expense\": 2350},\n",
        "    {\"month\": \"March\", \"expense\": 2600},\n",
        "    {\"month\": \"April\", \"expense\": 2130},\n",
        "    {\"month\": \"May\", \"expense\": 2190}\n",
        "]\n"
      ],
      "metadata": {
        "id": "LiZHkru12CzB"
      },
      "execution_count": 97,
      "outputs": []
    },
    {
      "cell_type": "code",
      "source": [
        "#1. In Feb, how many dollars you spent extra compare to January?\n",
        "january_expense = monthly_expenses[0][\"expense\"]\n",
        "february_expense = monthly_expenses[1][\"expense\"]\n",
        "print(\"Dollars spent in Feb compared to January is:\",february_expense-january_expense)"
      ],
      "metadata": {
        "id": "xN4mLqdw6y3E",
        "colab": {
          "base_uri": "https://localhost:8080/"
        },
        "outputId": "49f31d89-d6c1-4d08-c4b9-eb237acd9cb2"
      },
      "execution_count": 98,
      "outputs": [
        {
          "output_type": "stream",
          "name": "stdout",
          "text": [
            "Dollars spent in Feb compared to January is: 350\n"
          ]
        }
      ]
    },
    {
      "cell_type": "code",
      "source": [
        "#2. Find out your total expense in first quarter (first three months) of the year.\n",
        "total_expense = monthly_expenses[0][\"expense\"] + monthly_expenses[1][\"expense\"] + monthly_expenses[2][\"expense\"]\n",
        "print(\"Total expense in first quarter is:\",total_expense)"
      ],
      "metadata": {
        "colab": {
          "base_uri": "https://localhost:8080/"
        },
        "id": "3dF-atX47shp",
        "outputId": "63abc91a-40d5-4b55-e60f-7743c29815a2"
      },
      "execution_count": 99,
      "outputs": [
        {
          "output_type": "stream",
          "name": "stdout",
          "text": [
            "Total expense in first quarter is: 6950\n"
          ]
        }
      ]
    },
    {
      "cell_type": "code",
      "source": [
        "#Find out if you spent exactly 2000 dollars in any month\n",
        "for month in monthly_expenses:\n",
        "  if month[\"expense\"]==2000:\n",
        "    print(\"Exactly 2000 dolars are spent in the month:\",month[\"month\"])\n",
        "    break\n",
        "  else:\n",
        "    print(\"No exactly 2000 dolars in any month\")\n",
        "    break"
      ],
      "metadata": {
        "colab": {
          "base_uri": "https://localhost:8080/"
        },
        "id": "URhyxuO19DIO",
        "outputId": "dcf213d7-d2a0-4e2e-9f82-354ab05eb592"
      },
      "execution_count": 100,
      "outputs": [
        {
          "output_type": "stream",
          "name": "stdout",
          "text": [
            "Exactly 2000 dolars are spent in the month: January\n"
          ]
        }
      ]
    },
    {
      "cell_type": "code",
      "source": [
        "#June month just finished and your expense is 1980 dollar. Add this item to our monthly expense list\n",
        "monthly_expenses.append({\"month\": \"June\", \"expense\":1980})"
      ],
      "metadata": {
        "id": "Anwi0roQ-K2z"
      },
      "execution_count": 101,
      "outputs": []
    },
    {
      "cell_type": "code",
      "source": [
        "monthly_expenses"
      ],
      "metadata": {
        "colab": {
          "base_uri": "https://localhost:8080/"
        },
        "id": "pIOx16U8AlqY",
        "outputId": "6e40f63d-2d4c-4bec-bc3e-a501fb11e0a8"
      },
      "execution_count": 102,
      "outputs": [
        {
          "output_type": "execute_result",
          "data": {
            "text/plain": [
              "[{'month': 'January', 'expense': 2000},\n",
              " {'month': 'February', 'expense': 2350},\n",
              " {'month': 'March', 'expense': 2600},\n",
              " {'month': 'April', 'expense': 2130},\n",
              " {'month': 'May', 'expense': 2190},\n",
              " {'month': 'June', 'expense': 1980}]"
            ]
          },
          "metadata": {},
          "execution_count": 102
        }
      ]
    },
    {
      "cell_type": "code",
      "source": [
        "\"\"\"You returned an item that you bought in a month of April and\n",
        "got a refund of 200$. Make a correction to your monthly expense list\n",
        "based on this\n",
        "\"\"\"\n",
        "new_April_expense = monthly_expenses[3][\"expense\"] - 200\n",
        "print(new_April_expense)\n"
      ],
      "metadata": {
        "colab": {
          "base_uri": "https://localhost:8080/"
        },
        "id": "SQ7amSXVCGuf",
        "outputId": "579406ca-8b60-4af0-fb13-c985c6e3c1a1"
      },
      "execution_count": 103,
      "outputs": [
        {
          "output_type": "stream",
          "name": "stdout",
          "text": [
            "1930\n"
          ]
        }
      ]
    }
  ]
}